{
 "cells": [
  {
   "cell_type": "markdown",
   "metadata": {},
   "source": [
    "# Solving a travelling salesman problem (TSP) using GUROBI\n",
    "### 221B Baker Street: The Master Detective Game (a.k.a. Scotland Yard board game)\n",
    "\n",
    "The 221B Baker Street: The Master Detective Game (a.k.a. Scotland Yard board game) is a board game from 1975 **[\\[2\\]](https://boardgamegeek.com/boardgame/1275/221b-baker-street-master-detective-game)** where you play as the famous detective Sherlock Holmes trying to solve intriguing cases. Starting from Sherlock Holmes' house, you need to visit diferent locations in London picking up clues and evidences in order to solve the case given to you by the Scotland Yard. After figuring out the answers to the particular mystery, the player must return to the starting point at the 221B Baker Street and say out loud the solution.\n",
    "\n",
    "Problem characteristics:\n",
    "\n",
    "* Start and return to the 221B Baker street;\n",
    "* Locations contain clues/evidences but not every one will;\n",
    "* The number of squares between each pair of locations is the distance (cost) between them;\n",
    "* There is one special location, the Carriage Depot. From there, we can use a wagon to take you anywhere else in the map at no cost.\n",
    "\n",
    "\n",
    "<img src=\"./data/sy_board.png\" alt=\"drawing\" style=\"width:450px;\"/>\n",
    "<!-- ![board](./data/sy_board.png){width: 10px} -->\n",
    "\n",
    "This problem can be modeled and solved as a TSP-like."
   ]
  },
  {
   "cell_type": "markdown",
   "metadata": {},
   "source": [
    "## Requisites\n",
    "\n",
    "* GUROBI solver (9 or an early version) and gurobipy. Academics can obtain it via this [link](https://www.gurobi.com/downloads/gurobi-optimizer-eula/#Reg \"Gurobi's register page\")."
   ]
  },
  {
   "cell_type": "markdown",
   "metadata": {},
   "source": [
    "### TSP with Miller-Tucker-Zemlin (MTZ) constraints **[\\[1\\]](https://dl.acm.org/doi/10.1145/321043.321046)**\n",
    "\n",
    "Let $G = (V, E)$ be a directed weighted complete graph, where $V$ ($|V| = n$) is the set of vertices and $E$ is the set of edges. For each edge $\\{i, j\\} \\in E$, let $d_{ij} \\geq 0$ be the weighted associated with edge $(i, j)$, i.e., the distance between vertices $i$ and $j$. Decision variables $x_{ij}$, also known as routing variables, define whether the edge $(i, j)$ belongs to the route or not. Integer variables $u_i$ are the counter variables of the MTZ constraints. So the TSP-MTZ can be defined as follows:\n",
    "\n",
    "$$\n",
    "\\begin{align}\n",
    "\\min & \\sum_\\limits{(i, j) \\in E} d_{ij}x_{ij} & \\\\\n",
    "& \\text{subject to} \\\\\n",
    "& \\sum\\limits_{i = 1, i \\neq j}^n x_{ij} = 1, & \\forall j \\in V, \\\\\n",
    "& \\sum\\limits_{j = 1, j \\neq i}^n x_{ij} = 1, & \\forall i \\in V, \\\\\n",
    "& u_j \\geq u_i + 1 - n(1 + x_{ij}), & 2 \\leq i \\neq j \\leq n, \\\\\n",
    "& 1 \\leq u_i \\leq n - 1, & 2 \\leq i \\leq n, \\\\\n",
    "& x_{ij} \\in \\{0, 1\\}, & \\forall i, j \\in V, \\\\\n",
    "& u_i \\in \\mathbb{Z}, & i = 2, \\dots, n\n",
    "\\end{align}\n",
    "$$\n",
    "\n"
   ]
  },
  {
   "cell_type": "code",
   "execution_count": 47,
   "metadata": {},
   "outputs": [],
   "source": [
    "import csv\n",
    "import sys\n",
    "\n",
    "import numpy\n",
    "import gurobipy as gp\n",
    "from gurobipy import GRB\n",
    "from matplotlib import pyplot as plt\n",
    "\n",
    "# Import helper function\n",
    "sys.path.insert(0, './print_solution.py')\n",
    "from print_solution import *"
   ]
  },
  {
   "cell_type": "markdown",
   "metadata": {},
   "source": [
    "#### Read data"
   ]
  },
  {
   "cell_type": "code",
   "execution_count": 48,
   "metadata": {},
   "outputs": [
    {
     "name": "stdout",
     "output_type": "stream",
     "text": [
      "[[ 0  7 10 17 13 29 17 25 20 17 19 23 33 31 24]\n",
      " [ 7  0 15 16 12 28 22 24 15 11 12 16 31 25 17]\n",
      " [10 15  0  9  7 21 15 17 12 16 19 23 25 23 24]\n",
      " [17 16  9  0  8 14  8 10 11 15 20 24 18 16 24]\n",
      " [13 12  7  8  0 18 14 14  9 11 14 18 22 20 19]\n",
      " [29 28 21 14 18  0 16  6  7 22 17 13 10  4 12]\n",
      " [17 22 15  8 14 16  0 12 17 21 26 27 20 18 26]\n",
      " [25 24 17 10 14  6 12  0 11 21 21 17 10  8 16]\n",
      " [20 15 12 11  9  7 17 11  0  6 11  8 15  5  7]\n",
      " [17 11 16 15 11 22 21 21  6  0  7 11 26 20 12]\n",
      " [19 12 19 20 14 17 26 21 11  7  0  6 21 15  7]\n",
      " [23 16 23 24 18 13 27 17  8 11  6  0 17 11  3]\n",
      " [ 0  0  0  0  0  0  0  0  0  0  0  0  0  0  0]\n",
      " [31 25 23 16 20  4 18  8  5 20 15 11 12  0 10]\n",
      " [24 17 24 24 19 12 26 16  7 12  7  3 11 10  0]]\n"
     ]
    }
   ],
   "source": [
    "# Distance matrix\n",
    "dist = numpy.array([row[1:] for row in list(csv.reader(open(\"./data/scotland_yard_adj_mtx.csv\", \"r\"), delimiter=\",\"))[1:]]).astype(\"int\")\n",
    "\n",
    "print(dist)\n",
    "\n",
    "# Number of vertices\n",
    "n = len(dist)"
   ]
  },
  {
   "cell_type": "code",
   "execution_count": 49,
   "metadata": {},
   "outputs": [
    {
     "data": {
      "image/png": "[encoded data removed]",
      "text/plain": [
       "<Figure size 640x480 with 1 Axes>"
      ]
     },
     "metadata": {},
     "output_type": "display_data"
    }
   ],
   "source": [
    "# Vertices coordinates (x,y)\n",
    "coords = numpy.array(list(csv.reader(open(\"./data/coords.csv\", \"r\"), delimiter=\",\"))).astype(\"float\")\n",
    "\n",
    "x1, y1 = coords.T\n",
    "plt.scatter(x1, y1)\n",
    "plt.gca().axes.get_xaxis().set_visible(False)\n",
    "plt.gca().axes.get_yaxis().set_visible(False)\n",
    "plt.show()"
   ]
  },
  {
   "cell_type": "markdown",
   "metadata": {},
   "source": [
    "#### Building the TSP-MTZ model using Gurobi's API"
   ]
  },
  {
   "cell_type": "code",
   "execution_count": 50,
   "metadata": {},
   "outputs": [],
   "source": [
    "# Model TSP with Miller-Tucker-Zemlin (MTZ) constraints\n",
    "tspMtzModel = gp.Model(\"tsp_mtz\")\n",
    "\n",
    "# Add routing variables x_ij\n",
    "x = tspMtzModel.addVars(n, n, obj=dist, vtype=GRB.BINARY, name=\"x\")\n",
    "\n",
    "# Add MTZ counter variables u_i\n",
    "u = tspMtzModel.addVars(n, lb=1, ub=n-1, vtype=GRB.INTEGER, name=\"u\")"
   ]
  },
  {
   "cell_type": "markdown",
   "metadata": {},
   "source": [
    "#### Adding constraints"
   ]
  },
  {
   "cell_type": "code",
   "execution_count": 51,
   "metadata": {},
   "outputs": [],
   "source": [
    "# In-edges constraints\n",
    "tspMtzModel.addConstrs((gp.quicksum(x[i, j] for i in range(n) if i != j) == 1 \n",
    "                                            for j in range(n)), name=\"c1_\")\n",
    "\n",
    "# Out-edges constraints\n",
    "tspMtzModel.addConstrs((gp.quicksum(x[i, j] for j in range(n) if j != i) == 1 \n",
    "                                            for i in range(n)), name=\"c2_\")\n",
    "\n",
    "# MTZ constraints\n",
    "tspMtzModel.addConstrs((u[j] >= u[i] + 1 - n * (1 - x[i, j]) for i in range(1, n)\n",
    "                                                             for j in range(1, n)\n",
    "                                                             if i != j), name=\"c3_\")\n",
    "tspMtzModel.update() # Workaround to avoid GRB's noisy output"
   ]
  },
  {
   "cell_type": "markdown",
   "metadata": {},
   "source": [
    "#### Solving the model"
   ]
  },
  {
   "cell_type": "code",
   "execution_count": 52,
   "metadata": {},
   "outputs": [
    {
     "name": "stdout",
     "output_type": "stream",
     "text": [
      "Gurobi Optimizer version 9.5.1 build v9.5.1rc2 (linux64)\n",
      "Thread count: 4 physical cores, 8 logical processors, using up to 8 threads\n",
      "Optimize a model with 212 rows, 240 columns and 966 nonzeros\n",
      "Model fingerprint: 0xa42d56c0\n",
      "Variable types: 0 continuous, 240 integer (225 binary)\n",
      "Coefficient statistics:\n",
      "  Matrix range     [1e+00, 2e+01]\n",
      "  Objective range  [3e+00, 3e+01]\n",
      "  Bounds range     [1e+00, 1e+01]\n",
      "  RHS range        [1e+00, 1e+01]\n",
      "Presolve removed 0 rows and 16 columns\n",
      "Presolve time: 0.00s\n",
      "Presolved: 212 rows, 224 columns, 966 nonzeros\n",
      "Variable types: 0 continuous, 224 integer (210 binary)\n",
      "Found heuristic solution: objective 256.0000000\n",
      "\n",
      "Root relaxation: objective 8.885714e+01, 60 iterations, 0.00 seconds (0.00 work units)\n",
      "\n",
      "    Nodes    |    Current Node    |     Objective Bounds      |     Work\n",
      " Expl Unexpl |  Obj  Depth IntInf | Incumbent    BestBd   Gap | It/Node Time\n",
      "\n",
      "     0     0   88.85714    0   17  256.00000   88.85714  65.3%     -    0s\n",
      "H    0     0                     132.0000000   88.85714  32.7%     -    0s\n",
      "H    0     0                     127.0000000   96.06536  24.4%     -    0s\n",
      "H    0     0                     122.0000000   96.06536  21.3%     -    0s\n",
      "     0     0   96.06536    0   38  122.00000   96.06536  21.3%     -    0s\n",
      "     0     0   96.06536    0   40  122.00000   96.06536  21.3%     -    0s\n",
      "H    0     0                     118.0000000   96.06536  18.6%     -    0s\n",
      "H    0     0                     105.0000000   97.00000  7.62%     -    0s\n",
      "     0     0   97.00000    0   24  105.00000   97.00000  7.62%     -    0s\n",
      "H    0     0                      99.0000000   97.00000  2.02%     -    0s\n",
      "     0     0   97.93878    0   20   99.00000   97.93878  1.07%     -    0s\n",
      "     0     0 infeasible    0        99.00000   99.00000  0.00%     -    0s\n",
      "\n",
      "Explored 1 nodes (206 simplex iterations) in 0.11 seconds (0.02 work units)\n",
      "Thread count was 8 (of 8 available processors)\n",
      "\n",
      "Solution count 7: 99 105 118 ... 256\n",
      "\n",
      "Optimal solution found (tolerance 1.00e-04)\n",
      "Best objective 9.900000000000e+01, best bound 9.900000000000e+01, gap 0.0000%\n",
      "\n",
      "--------------------------------------------------------------------------------\n",
      "Cost: 99\n",
      "Route(s):\n",
      "\t1 -> 2 -> 10 -> 11 -> 12 -> 15 -> 9 -> 14 -> 6 -> 8 -> 13 -> 7 -> 4 -> 5 -> 3 -> 1\n"
     ]
    }
   ],
   "source": [
    "# Solve the model\n",
    "tspMtzModel.optimize()\n",
    "# Print route(s)\n",
    "printSolution(tspMtzModel, x, n)"
   ]
  },
  {
   "cell_type": "markdown",
   "metadata": {},
   "source": [
    "#### Plotting the solution"
   ]
  },
  {
   "cell_type": "code",
   "execution_count": 53,
   "metadata": {},
   "outputs": [
    {
     "data": {
      "image/png": "[encoded data removed]",
      "text/plain": [
       "<Figure size 640x480 with 1 Axes>"
      ]
     },
     "metadata": {},
     "output_type": "display_data"
    }
   ],
   "source": [
    "for i in range(n): \n",
    "    for j in range(n):\n",
    "        if x[i, j].X >= 0.0001: \n",
    "                plt.plot([x1[i], x1[j]], [y1[i], y1[j]], color='blue', marker='o')\n",
    "            \n",
    "plt.gca().axes.get_xaxis().set_visible(False)\n",
    "plt.gca().axes.get_yaxis().set_visible(False)\n",
    "plt.show()"
   ]
  },
  {
   "cell_type": "markdown",
   "metadata": {},
   "source": [
    "## Some (lazy) modifications\n",
    "\n",
    "In the board game, however, visiting all vertices is not mandatory. Instead, we could visit only $p$ out of $n$ vertices if we believe we already collected enough evidences from the locations. So we can modify (in a dumb way) our TSP-MTZ to handle this by adding new binary variables $y_i$. These variables control whether vertex $i$ is visited or not. So the new TSP-like problem can be defined as follows:\n",
    "\n",
    "$$\n",
    "\\begin{align}\n",
    "\\min & \\sum_\\limits{(i, j) \\in E} d_{ij}x_{ij} & \\\\\n",
    "& \\text{subject to} \\\\\n",
    "& \\sum\\limits_{i = 1}^n y_i = p, & \\\\\n",
    "& \\sum\\limits_{i = 1, i \\neq j}^n x_{ij} = y_j, & \\forall j \\in V, \\\\\n",
    "& \\sum\\limits_{j = 1, j \\neq i}^n x_{ij} = y_i, & \\forall i \\in V, \\\\\n",
    "& u_j \\geq u_i + 1 - n(1 + x_{ij}), & 2 \\leq i \\neq j \\leq n, \\\\\n",
    "& 1 \\leq u_i \\leq n - 1, & 2 \\leq i \\leq n, \\\\\n",
    "& y_1 = 1, & \\\\\n",
    "& y_i, x_{ij} \\in \\{0, 1\\}, & \\forall i, j \\in V, \\\\\n",
    "& u_i \\in \\mathbb{Z}, & i = 2, \\dots, n\n",
    "\\end{align}\n",
    "$$"
   ]
  },
  {
   "cell_type": "markdown",
   "metadata": {},
   "source": [
    "#### Building the new model"
   ]
  },
  {
   "cell_type": "code",
   "execution_count": 54,
   "metadata": {},
   "outputs": [],
   "source": [
    "# Number of vertices to visit ([2, 15])\n",
    "p = 11\n",
    "\n",
    "# Modified model TSP-MTZ\n",
    "tspMtzSyModel = gp.Model(\"tsp_mtz_sy\")\n",
    "\n",
    "# Add visiting variables y_i\n",
    "y = tspMtzSyModel.addVars(n, vtype=GRB.BINARY, name=\"y\")\n",
    "\n",
    "# Add routing variables x_ij\n",
    "x = tspMtzSyModel.addVars(n, n, obj=dist, vtype=GRB.BINARY, name=\"x\")\n",
    "\n",
    "# Add MTZ counter variables u_i\n",
    "u = tspMtzSyModel.addVars(n, lb=1, ub=n-1, vtype=GRB.INTEGER, name=\"u\")"
   ]
  },
  {
   "cell_type": "markdown",
   "metadata": {},
   "source": [
    "#### Adding constraints"
   ]
  },
  {
   "cell_type": "code",
   "execution_count": 55,
   "metadata": {},
   "outputs": [],
   "source": [
    "# Visit p vertices constraints\n",
    "tspMtzSyModel.addConstr(gp.quicksum(y[i] for i in range(n)) == p, \"c0_\")\n",
    "\n",
    "# In-edges constraints\n",
    "tspMtzSyModel.addConstrs((gp.quicksum(x[i, j] for i in range(n) if i != j) == y[j] \n",
    "                                              for j in range(n)), name=\"c1_\")\n",
    "\n",
    "# Out-edges constraints\n",
    "tspMtzSyModel.addConstrs((gp.quicksum(x[i, j] for j in range(n) if j != i) == y[i]\n",
    "                                              for i in range(n)), name=\"c2_\")\n",
    "\n",
    "# MTZ constraints\n",
    "tspMtzSyModel.addConstrs((u[j] >= u[i] + 1 - n * (1 - x[i, j]) for i in range(1, n)\n",
    "                                                             for j in range(1, n)\n",
    "                                                             if i != j), name=\"c3_\")\n",
    "tspMtzSyModel.addConstr(y[0] == 1, \"c4_\")\n",
    "tspMtzSyModel.update() # Workaround to silence GRB's output"
   ]
  },
  {
   "cell_type": "markdown",
   "metadata": {},
   "source": [
    "#### Solving the new model"
   ]
  },
  {
   "cell_type": "code",
   "execution_count": 56,
   "metadata": {},
   "outputs": [
    {
     "name": "stdout",
     "output_type": "stream",
     "text": [
      "Gurobi Optimizer version 9.5.1 build v9.5.1rc2 (linux64)\n",
      "Thread count: 4 physical cores, 8 logical processors, using up to 8 threads\n",
      "Optimize a model with 214 rows, 255 columns and 1012 nonzeros\n",
      "Model fingerprint: 0x2502e6c3\n",
      "Variable types: 0 continuous, 255 integer (240 binary)\n",
      "Coefficient statistics:\n",
      "  Matrix range     [1e+00, 2e+01]\n",
      "  Objective range  [3e+00, 3e+01]\n",
      "  Bounds range     [1e+00, 1e+01]\n",
      "  RHS range        [1e+00, 1e+01]\n",
      "Presolve removed 1 rows and 17 columns\n",
      "Presolve time: 0.00s\n",
      "Presolved: 213 rows, 238 columns, 1008 nonzeros\n",
      "Variable types: 0 continuous, 238 integer (224 binary)\n",
      "Found heuristic solution: objective 173.0000000\n",
      "\n",
      "Root relaxation: objective 5.757143e+01, 78 iterations, 0.00 seconds (0.00 work units)\n",
      "\n",
      "    Nodes    |    Current Node    |     Objective Bounds      |     Work\n",
      " Expl Unexpl |  Obj  Depth IntInf | Incumbent    BestBd   Gap | It/Node Time\n",
      "\n",
      "     0     0   57.57143    0   14  173.00000   57.57143  66.7%     -    0s\n",
      "H    0     0                     118.0000000   57.57143  51.2%     -    0s\n",
      "H    0     0                      94.0000000   57.57143  38.8%     -    0s\n",
      "     0     0   61.00000    0   13   94.00000   61.00000  35.1%     -    0s\n",
      "     0     0   61.00000    0    9   94.00000   61.00000  35.1%     -    0s\n",
      "H    0     0                      82.0000000   61.00000  25.6%     -    0s\n",
      "     0     0   61.00000    0   16   82.00000   61.00000  25.6%     -    0s\n",
      "     0     0   61.00000    0   10   82.00000   61.00000  25.6%     -    0s\n",
      "     0     0   61.03103    0   28   82.00000   61.03103  25.6%     -    0s\n",
      "H    0     0                      81.0000000   61.03147  24.7%     -    0s\n",
      "     0     0   61.03147    0   29   81.00000   61.03147  24.7%     -    0s\n",
      "H    0     0                      80.0000000   61.03147  23.7%     -    0s\n",
      "H    0     0                      79.0000000   61.03147  22.7%     -    0s\n",
      "     0     0   61.35714    0   27   79.00000   61.35714  22.3%     -    0s\n",
      "H    0     0                      71.0000000   61.35714  13.6%     -    0s\n",
      "     0     0   61.35714    0   28   71.00000   61.35714  13.6%     -    0s\n",
      "     0     0   61.35714    0   28   71.00000   61.35714  13.6%     -    0s\n",
      "     0     0   61.35714    0   14   71.00000   61.35714  13.6%     -    0s\n",
      "     0     0   61.35714    0    9   71.00000   61.35714  13.6%     -    0s\n",
      "     0     0   61.35714    0   28   71.00000   61.35714  13.6%     -    0s\n",
      "     0     0   61.35714    0   28   71.00000   61.35714  13.6%     -    0s\n",
      "     0     0   61.35714    0   27   71.00000   61.35714  13.6%     -    0s\n",
      "     0     0   61.35714    0   29   71.00000   61.35714  13.6%     -    0s\n",
      "     0     0   61.35714    0   28   71.00000   61.35714  13.6%     -    0s\n",
      "     0     0   61.41071    0   28   71.00000   61.41071  13.5%     -    0s\n",
      "     0     2   62.00000    0   27   71.00000   62.00000  12.7%     -    0s\n",
      "H   51    51                      66.0000000   62.30000  5.61%   8.0    0s\n",
      "\n",
      "Cutting planes:\n",
      "  Learned: 5\n",
      "  Gomory: 1\n",
      "  Implied bound: 5\n",
      "  MIR: 6\n",
      "  StrongCG: 1\n",
      "  Zero half: 1\n",
      "  RLT: 3\n",
      "  Relax-and-lift: 11\n",
      "  PSD: 1\n",
      "\n",
      "Explored 151 nodes (1114 simplex iterations) in 0.21 seconds (0.05 work units)\n",
      "Thread count was 8 (of 8 available processors)\n",
      "\n",
      "Solution count 9: 66 71 79 ... 173\n",
      "\n",
      "Optimal solution found (tolerance 1.00e-04)\n",
      "Best objective 6.600000000000e+01, best bound 6.600000000000e+01, gap 0.0000%\n",
      "\n",
      "--------------------------------------------------------------------------------\n",
      "Cost: 66\n",
      "Route(s):\n",
      "\t1 -> 2 -> 10 -> 11 -> 12 -> 15 -> 9 -> 14 -> 6 -> 8 -> 13 -> 1\n",
      "\t3\n",
      "\t4\n",
      "\t5\n",
      "\t7\n"
     ]
    }
   ],
   "source": [
    "# Solve the model\n",
    "tspMtzSyModel.optimize()\n",
    "# Print route(s)\n",
    "printSolution(tspMtzSyModel, x, n)"
   ]
  },
  {
   "cell_type": "markdown",
   "metadata": {},
   "source": [
    "#### Plotting the new solution"
   ]
  },
  {
   "cell_type": "code",
   "execution_count": 46,
   "metadata": {},
   "outputs": [
    {
     "data": {
      "image/png": "[encoded data removed]",
      "text/plain": [
       "<Figure size 640x480 with 1 Axes>"
      ]
     },
     "metadata": {},
     "output_type": "display_data"
    }
   ],
   "source": [
    "for i in range(n): \n",
    "    for j in range(n):\n",
    "        if x[i, j].X >= 0.0001: \n",
    "                plt.plot([x1[i], x1[j]], [y1[i], y1[j]], color='blue', marker='o')\n",
    "            \n",
    "plt.show()"
   ]
  },
  {
   "cell_type": "markdown",
   "metadata": {},
   "source": [
    "### References\n",
    "\n",
    "**[\\[1\\] C. E. Miller and A. W. Tucker. Integer Programming Formulation of Traveling Salesman Problems, Journal of the ACM, Volume 7, Issue 4, 1960, pp 326-329](https://dl.acm.org/doi/10.1145/321043.321046)**\n",
    "\n",
    "**[\\[2\\] https://boardgamegeek.com/boardgame/1275/221b-baker-street-master-detective-game](https://boardgamegeek.com/boardgame/1275/221b-baker-street-master-detective-game)**"
   ]
  }
 ],
 "metadata": {
  "kernelspec": {
   "display_name": "Python 3",
   "language": "python",
   "name": "python3"
  },
  "language_info": {
   "codemirror_mode": {
    "name": "ipython",
    "version": 3
   },
   "file_extension": ".py",
   "mimetype": "text/x-python",
   "name": "python",
   "nbconvert_exporter": "python",
   "pygments_lexer": "ipython3",
   "version": "3.8.10"
  }
 },
 "nbformat": 4,
 "nbformat_minor": 4
}
